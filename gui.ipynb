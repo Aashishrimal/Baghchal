import tkinter as tk

class BaghchalGUI:
    def __init__(self, master):
        self.master = master
        master.title("Baghchal Game")
        
        self.baghchal = BaghchalBoard()

        self.board_frame = tk.Frame(master)
        self.board_frame.pack()

        self.buttons = []
        for i in range(5):
            row_buttons = []
            for j in range(5):
                button = tk.Button(self.board_frame, text="", width=5, height=2,
                                   command=lambda r=i, c=j: self.make_move(r, c))
                button.grid(row=i, column=j)
                row_buttons.append(button)
            self.buttons.append(row_buttons)

        self.move_label = tk.Label(master, text="")
        self.move_label.pack()

        self.update_board()
        self.twenty_goat=False 
   
    def make_move(self, row, col):
        if self.baghchal.turn == 'G' and self.baghchal.goats_placed < 20:
            if self.baghchal.board[row][col] == '.':
                self.baghchal.board[row][col] = 'G'
                self.baghchal.goats_placed += 1
                self.baghchal.turn = 'T' 
                self.move_label.config(text=f"Goat at ({row}, {col}) ,, Tiger's turn ")
                self.update_board()# Switch to tiger's turn after each goat is placed
            else:
                self.move_label.config(text="Invalid position. Try again.")
       
        elif self.baghchal.turn == 'G':
            if not self.twenty_goat:
                self.move_label.config(text=f"Move goat 20 placement complete ")
            self.twenty_goat =True     
            
            if self.baghchal.board[row][col] == 'G':
                
                if self.baghchal.selected_goat is None:
                    self.baghchal.selected_goat = (row, col)
                    self.move_label.config(text=f"Selected goat at ({row}, {col}). Click where to move.")
            elif baghchal.board[row][col]=='.' and  self.baghchal.selected_goat is not None:
                start_row, start_col = self.baghchal.selected_goat
                if self.baghchal.is_valid_move(start_row, start_col, row, col):
                    self.baghchal.make_move(start_row, start_col, row, col)
                    self.baghchal.selected_goat = None
                    self.update_board()
                    self.move_label.config(text="Tigers turn ")
                    
                    
                else:
                    self.move_label.config(text="Invalid move. Try again.")
            else:
                self.move_label.config(text="Select a goat to move.")



        
        elif self.baghchal.turn == 'T':
            if self.baghchal.board[row][col] == 'T':
                if self.baghchal.selected_tiger is None:
                    self.baghchal.selected_tiger = (row, col)
                    self.move_label.config(text=f"Selected tiger at ({row}, {col}). Click where to move.")
            elif self.baghchal.board[row][col]=='.' and self.baghchal.selected_tiger is not None :
                start_row, start_col = self.baghchal.selected_tiger
                if self.baghchal.is_valid_move(start_row, start_col, row, col):
                    self.baghchal.make_move(start_row, start_col, row, col)
                    self.baghchal.selected_tiger = None
                    self.update_board()
                    self.move_label.config(text='Goat Turn')
                else:
                    self.move_label.config(text="Invalid move. Try again.")
                
            else:
                self.move_label.config(text="Select a tiger to move.!!!!!")
    
        self.update_board()






    
    

    def update_board(self):
        for i in range(5):
            for j in range(5):
                if self.baghchal.board[i][j] == 'T':
                    self.buttons[i][j].config(text="T")
                elif self.baghchal.board[i][j] == 'G':
                    self.buttons[i][j].config(text="G")
                else:
                    self.buttons[i][j].config(text="")

    def disable_buttons(self):
        for row in self.buttons:
            for button in row:
                button.config(state=tk.DISABLED)


def main():
    root = tk.Tk()
    gui = BaghchalGUI(root)
    root.mainloop()

if __name__ == "__main__":
    main()
